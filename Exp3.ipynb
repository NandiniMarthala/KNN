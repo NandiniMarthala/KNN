{
  "nbformat": 4,
  "nbformat_minor": 0,
  "metadata": {
    "colab": {
      "provenance": []
    },
    "kernelspec": {
      "name": "python3",
      "display_name": "Python 3"
    },
    "language_info": {
      "name": "python"
    }
  },
  "cells": [
    {
      "cell_type": "code",
      "execution_count": null,
      "metadata": {
        "colab": {
          "base_uri": "https://localhost:8080/"
        },
        "id": "GZ5ujR87mO8i",
        "outputId": "9307a50a-6bd3-403e-d966-9efb47df07ae"
      },
      "outputs": [
        {
          "output_type": "stream",
          "name": "stdout",
          "text": [
            "Accuracy: 0.948905109489051\n",
            "Mean Squared Error: 0.11354420113544202\n"
          ]
        }
      ],
      "source": [
        " from sklearn.neighbors import KNeighborsClassifier, KNeighborsRegressor\n",
        " from sklearn.model_selection import train_test_split\n",
        " from sklearn.metrics import accuracy_score, mean_squared_error\n",
        " import pandas as pd # Importing pandas\n",
        " # Load your data\n",
        " data = pd.read_csv(\"/content/sample_data/breast_cancer.csv\")\n",
        " # Split data into features and target variable\n",
        " # Change \"target_column\" to the actual name of your target column (e.g., 'Class')\n",
        " X = data.drop(\"Class\", axis=1)  # Assuming 'Class' is the target column name\n",
        " y = data[\"Class\"]  # Assuming 'Class' is the target column name\n",
        " # Split data into training and testing sets\n",
        " X_train, X_test, y_train, y_test = train_test_split(X, y, test_size=0.2, random_state=42)\n",
        " # Classification\n",
        " knn_classifier = KNeighborsClassifier(n_neighbors=3)  # Adjust n_neighbors as needed\n",
        " knn_classifier.fit(X_train, y_train)\n",
        " y_pred_class = knn_classifier.predict(X_test)\n",
        " accuracy = accuracy_score(y_test, y_pred_class)\n",
        " print(\"Accuracy:\", accuracy)\n",
        " # Regression\n",
        " knn_regressor = KNeighborsRegressor(n_neighbors=3)  # Adjust n_neighbors as needed\n",
        " knn_regressor.fit(X_train, y_train)\n",
        " y_pred_reg = knn_regressor.predict(X_test)\n",
        " mse = mean_squared_error(y_test, y_pred_reg)\n",
        " print(\"Mean Squared Error:\", mse)"
      ]
    }
  ]
}